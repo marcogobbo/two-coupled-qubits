{
 "cells": [
  {
   "cell_type": "code",
   "execution_count": 2,
   "metadata": {},
   "outputs": [],
   "source": [
    "import matplotlib.pyplot as plt\n",
    "import numpy as np\n",
    "from qutip import *\n",
    "from scipy.constants import e, hbar\n",
    "from scipy.linalg import solve_sylvester\n",
    "\n",
    "from two_coupled_qubits import ChargeQubit, Resonator"
   ]
  },
  {
   "cell_type": "code",
   "execution_count": 3,
   "metadata": {},
   "outputs": [],
   "source": [
    "q1 = ChargeQubit(e_c=0.23084, e_j=16.34, levels=1, n_g=0)\n",
    "q2 = ChargeQubit(e_c=0.26084, e_j=16.34, levels=1, n_g=0)\n",
    "r = Resonator(dim=5, w=7.50, c_r=368.440)"
   ]
  },
  {
   "cell_type": "code",
   "execution_count": 4,
   "metadata": {},
   "outputs": [],
   "source": [
    "# Parameters\n",
    "c_g = 1.946\n",
    "beta_1 = c_g/(c_g + q1.c_s)\n",
    "beta_2 = c_g/(c_g + q2.c_s)\n",
    "\n",
    "# Operators\n",
    "b = destroy(r.dim)\n",
    "\n",
    "# Free Hamiltonian\n",
    "h0 = tensor(q1.h, q2.h, r.h)\n",
    "\n",
    "# Interacting Hamiltonian\n",
    "h1r = tensor(- 1j * 2 * beta_1 * e * r.v_rms / hbar * 1e-9 * q1.number[1], qeye(q2.dim), (b - b.dag()))\n",
    "h2r = tensor(qeye(q1.dim), - 1j * 2 * beta_2 * e * r.v_rms / hbar * 1e-9 * q2.number[1], (b - b.dag()))\n",
    "hint = h1r + h2r\n",
    "\n",
    "# Total Hamiltonian\n",
    "h = h0 + hint"
   ]
  },
  {
   "cell_type": "code",
   "execution_count": 21,
   "metadata": {},
   "outputs": [],
   "source": [
    "_, states_q1 = q1.h.eigenstates()\n",
    "_, states_q2 = q2.h.eigenstates()\n",
    "\n",
    "p = tensor(states_q1[0] * states_q1[0].dag() + states_q1[1] * states_q1[1].dag(), states_q2[0] * states_q2[0].dag() + states_q2[1] * states_q2[1].dag(), qeye(r.dim))\n",
    "\n",
    "s = Qobj(solve_sylvester(-h0.full(), h0.full(), -potential.full()))\n",
    "\n",
    "heff = Qobj(h0.full() + 0.5 * commutator(s.full(), potential.full())).full()"
   ]
  },
  {
   "cell_type": "code",
   "execution_count": 23,
   "metadata": {},
   "outputs": [],
   "source": [
    "heffective = Qobj(p * heff * p)"
   ]
  },
  {
   "cell_type": "code",
   "execution_count": 24,
   "metadata": {},
   "outputs": [],
   "source": [
    "eigenenergies, eigenstates = heffective.eigenstates()"
   ]
  },
  {
   "cell_type": "code",
   "execution_count": 25,
   "metadata": {},
   "outputs": [],
   "source": [
    "# Eigenvectors\n",
    "eigenenergies, eigenstates = heffective.eigenstates()\n",
    "\n",
    "# States\n",
    "psi = np.empty((2, 2), dtype=Qobj)\n",
    "\n",
    "for i in range(2):\n",
    "    for j in range(2):\n",
    "            psi[i,j] = tensor(eigenstates[i], eigenstates[j])\n",
    "\n",
    "# Time\n",
    "t_list = np.linspace(0, 20, 1000)"
   ]
  },
  {
   "cell_type": "code",
   "execution_count": 26,
   "metadata": {},
   "outputs": [
    {
     "data": {
      "text/latex": [
       "Quantum object: dims = [[45], [45]], shape = (45, 45), type = oper, isherm = True $ \\\\ \\left(\\begin{matrix}0.0 & 0.0 & 0.0 & 0.0 & 0.0 & \\cdots & 0.0 & 0.0 & 0.0 & 0.0 & 0.0\\\\0.0 & 35.206 & 0.0 & 0.0 & 0.0 & \\cdots & 0.0 & 73.889 & 0.0 & 0.0 & 0.0\\\\0.0 & 0.0 & 70.412 & 0.0 & 0.0 & \\cdots & 0.0 & 0.0 & 147.779 & 0.0 & 0.0\\\\0.0 & 0.0 & 0.0 & 105.619 & 0.0 & \\cdots & 0.0 & 0.0 & 0.0 & 221.668 & 0.0\\\\0.0 & 0.0 & 0.0 & 0.0 & 140.825 & \\cdots & 0.0 & 0.0 & 0.0 & 0.0 & 295.557\\\\\\vdots & \\vdots & \\vdots & \\vdots & \\vdots & \\ddots & \\vdots & \\vdots & \\vdots & \\vdots & \\vdots\\\\0.0 & 0.0 & 0.0 & 0.0 & 0.0 & \\cdots & 0.0 & 0.0 & 0.0 & 0.0 & 0.0\\\\0.0 & 73.889 & 0.0 & 0.0 & 0.0 & \\cdots & 0.0 & 35.206 & 0.0 & 0.0 & 0.0\\\\0.0 & 0.0 & 147.779 & 0.0 & 0.0 & \\cdots & 0.0 & 0.0 & 70.412 & 0.0 & 0.0\\\\0.0 & 0.0 & 0.0 & 221.668 & 0.0 & \\cdots & 0.0 & 0.0 & 0.0 & 105.619 & 0.0\\\\0.0 & 0.0 & 0.0 & 0.0 & 295.557 & \\cdots & 0.0 & 0.0 & 0.0 & 0.0 & 140.825\\\\\\end{matrix}\\right)$"
      ],
      "text/plain": [
       "Quantum object: dims = [[45], [45]], shape = (45, 45), type = oper, isherm = True\n",
       "Qobj data =\n",
       "[[  0.           0.           0.         ...   0.           0.\n",
       "    0.        ]\n",
       " [  0.          35.20624372   0.         ...   0.           0.\n",
       "    0.        ]\n",
       " [  0.           0.          70.41248745 ... 147.77858251   0.\n",
       "    0.        ]\n",
       " ...\n",
       " [  0.           0.         147.77858251 ...  70.41248745   0.\n",
       "    0.        ]\n",
       " [  0.           0.           0.         ...   0.         105.61873117\n",
       "    0.        ]\n",
       " [  0.           0.           0.         ...   0.           0.\n",
       "  140.82497489]]"
      ]
     },
     "execution_count": 26,
     "metadata": {},
     "output_type": "execute_result"
    }
   ],
   "source": [
    "heffective"
   ]
  },
  {
   "cell_type": "code",
   "execution_count": 27,
   "metadata": {},
   "outputs": [
    {
     "ename": "AttributeError",
     "evalue": "'numpy.ndarray' object has no attribute 'isoper'",
     "output_type": "error",
     "traceback": [
      "\u001b[0;31m---------------------------------------------------------------------------\u001b[0m",
      "\u001b[0;31mAttributeError\u001b[0m                            Traceback (most recent call last)",
      "Cell \u001b[0;32mIn[27], line 2\u001b[0m\n\u001b[1;32m      1\u001b[0m \u001b[38;5;66;03m# Master Equation\u001b[39;00m\n\u001b[0;32m----> 2\u001b[0m result \u001b[38;5;241m=\u001b[39m \u001b[43mmesolve\u001b[49m\u001b[43m(\u001b[49m\u001b[43mH\u001b[49m\u001b[38;5;241;43m=\u001b[39;49m\u001b[43mheffective\u001b[49m\u001b[43m,\u001b[49m\u001b[43m \u001b[49m\u001b[43mrho0\u001b[49m\u001b[38;5;241;43m=\u001b[39;49m\u001b[43mpsi\u001b[49m\u001b[43m[\u001b[49m\u001b[38;5;241;43m1\u001b[39;49m\u001b[43m,\u001b[49m\u001b[38;5;241;43m0\u001b[39;49m\u001b[43m]\u001b[49m\u001b[38;5;241;43m.\u001b[39;49m\u001b[43mfull\u001b[49m\u001b[43m(\u001b[49m\u001b[43m)\u001b[49m\u001b[43m,\u001b[49m\u001b[43m \u001b[49m\u001b[43mtlist\u001b[49m\u001b[38;5;241;43m=\u001b[39;49m\u001b[43mt_list\u001b[49m\u001b[43m,\u001b[49m\u001b[43m \u001b[49m\u001b[43mc_ops\u001b[49m\u001b[38;5;241;43m=\u001b[39;49m\u001b[43m[\u001b[49m\u001b[43m]\u001b[49m\u001b[43m,\u001b[49m\u001b[43m \u001b[49m\u001b[43me_ops\u001b[49m\u001b[38;5;241;43m=\u001b[39;49m\u001b[43m[\u001b[49m\u001b[43m]\u001b[49m\u001b[43m,\u001b[49m\u001b[43m \u001b[49m\u001b[43margs\u001b[49m\u001b[38;5;241;43m=\u001b[39;49m\u001b[43m{\u001b[49m\u001b[43m}\u001b[49m\u001b[43m)\u001b[49m\n",
      "File \u001b[0;32m~/Desktop/Projects/PhD/Simulations/two-coupled-qubits/.venv/lib/python3.11/site-packages/qutip/mesolve.py:222\u001b[0m, in \u001b[0;36mmesolve\u001b[0;34m(H, rho0, tlist, c_ops, e_ops, args, options, progress_bar, _safe_mode)\u001b[0m\n\u001b[1;32m    220\u001b[0m \u001b[38;5;28;01mif\u001b[39;00m isket(rho0):\n\u001b[1;32m    221\u001b[0m     rho0 \u001b[38;5;241m=\u001b[39m ket2dm(rho0)\n\u001b[0;32m--> 222\u001b[0m \u001b[38;5;28;01mif\u001b[39;00m (\u001b[38;5;129;01mnot\u001b[39;00m (\u001b[43mrho0\u001b[49m\u001b[38;5;241;43m.\u001b[39;49m\u001b[43misoper\u001b[49m \u001b[38;5;129;01mor\u001b[39;00m rho0\u001b[38;5;241m.\u001b[39missuper)) \u001b[38;5;129;01mor\u001b[39;00m (rho0\u001b[38;5;241m.\u001b[39mdims[\u001b[38;5;241m0\u001b[39m] \u001b[38;5;241m!=\u001b[39m rho0\u001b[38;5;241m.\u001b[39mdims[\u001b[38;5;241m1\u001b[39m]):\n\u001b[1;32m    223\u001b[0m     \u001b[38;5;28;01mraise\u001b[39;00m \u001b[38;5;167;01mValueError\u001b[39;00m(\n\u001b[1;32m    224\u001b[0m         \u001b[38;5;124m\"\u001b[39m\u001b[38;5;124minput state must be a pure state vector, square density matrix, \u001b[39m\u001b[38;5;124m\"\u001b[39m\n\u001b[1;32m    225\u001b[0m         \u001b[38;5;124m\"\u001b[39m\u001b[38;5;124mor superoperator\u001b[39m\u001b[38;5;124m\"\u001b[39m\n\u001b[1;32m    226\u001b[0m     )\n\u001b[1;32m    228\u001b[0m \u001b[38;5;28;01mif\u001b[39;00m \u001b[38;5;28misinstance\u001b[39m(H, SolverSystem):\n",
      "\u001b[0;31mAttributeError\u001b[0m: 'numpy.ndarray' object has no attribute 'isoper'"
     ]
    }
   ],
   "source": [
    "# Master Equation\n",
    "result = mesolve(H=heffective, rho0=psi[1,0].full(), tlist=t_list, c_ops=[], e_ops=[], args={})"
   ]
  },
  {
   "cell_type": "code",
   "execution_count": 11,
   "metadata": {},
   "outputs": [
    {
     "ename": "IndexError",
     "evalue": "too many indices for array: array is 2-dimensional, but 3 were indexed",
     "output_type": "error",
     "traceback": [
      "\u001b[0;31m---------------------------------------------------------------------------\u001b[0m",
      "\u001b[0;31mIndexError\u001b[0m                                Traceback (most recent call last)",
      "Cell \u001b[0;32mIn[11], line 7\u001b[0m\n\u001b[1;32m      5\u001b[0m \u001b[38;5;28;01mfor\u001b[39;00m j \u001b[38;5;129;01min\u001b[39;00m \u001b[38;5;28mrange\u001b[39m(q2\u001b[38;5;241m.\u001b[39mdim):\n\u001b[1;32m      6\u001b[0m     \u001b[38;5;28;01mfor\u001b[39;00m k \u001b[38;5;129;01min\u001b[39;00m \u001b[38;5;28mrange\u001b[39m(r\u001b[38;5;241m.\u001b[39mdim):\n\u001b[0;32m----> 7\u001b[0m         prob[i,j,k] \u001b[38;5;241m=\u001b[39m expect(\u001b[43mpsi\u001b[49m\u001b[43m[\u001b[49m\u001b[43mi\u001b[49m\u001b[43m,\u001b[49m\u001b[43mj\u001b[49m\u001b[43m,\u001b[49m\u001b[43mk\u001b[49m\u001b[43m]\u001b[49m\u001b[38;5;241m*\u001b[39mpsi[i,j,k]\u001b[38;5;241m.\u001b[39mdag(), result\u001b[38;5;241m.\u001b[39mstates)\n",
      "\u001b[0;31mIndexError\u001b[0m: too many indices for array: array is 2-dimensional, but 3 were indexed"
     ]
    }
   ],
   "source": [
    "# Expected value\n",
    "prob = np.empty((q1.dim, q2.dim, r.dim), dtype=Qobj)\n",
    "\n",
    "for i in range(q1.dim):\n",
    "    for j in range(q2.dim):\n",
    "        for k in range(r.dim):\n",
    "            prob[i,j,k] = expect(psi[i,j,k]*psi[i,j,k].dag(), result.states)"
   ]
  },
  {
   "cell_type": "code",
   "execution_count": null,
   "metadata": {},
   "outputs": [],
   "source": []
  }
 ],
 "metadata": {
  "kernelspec": {
   "display_name": ".venv",
   "language": "python",
   "name": "python3"
  },
  "language_info": {
   "codemirror_mode": {
    "name": "ipython",
    "version": 3
   },
   "file_extension": ".py",
   "mimetype": "text/x-python",
   "name": "python",
   "nbconvert_exporter": "python",
   "pygments_lexer": "ipython3",
   "version": "3.11.7"
  }
 },
 "nbformat": 4,
 "nbformat_minor": 2
}
