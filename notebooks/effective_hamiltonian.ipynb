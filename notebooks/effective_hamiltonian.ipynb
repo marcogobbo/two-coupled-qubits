{
 "cells": [
  {
   "cell_type": "code",
   "execution_count": 1,
   "metadata": {},
   "outputs": [],
   "source": [
    "import matplotlib.pyplot as plt\n",
    "import numpy as np\n",
    "from qutip import *\n",
    "from scipy.constants import e, hbar\n",
    "from scipy.linalg import solve_sylvester\n",
    "\n",
    "from two_coupled_qubits import ChargeQubit, Resonator"
   ]
  },
  {
   "cell_type": "code",
   "execution_count": 2,
   "metadata": {},
   "outputs": [],
   "source": [
    "# Qubit and Resonator Qobj\n",
    "q1 = ChargeQubit(e_c=0.23084, e_j=16.34, levels=1, n_g=0)\n",
    "q2 = ChargeQubit(e_c=0.26084, e_j=16.34, levels=1, n_g=0)\n",
    "r = Resonator(dim=5, w=7.50, c_r=368.440)"
   ]
  },
  {
   "cell_type": "code",
   "execution_count": 3,
   "metadata": {},
   "outputs": [],
   "source": [
    "# Parameters\n",
    "c_g = 1.946\n",
    "beta_1 = c_g/(c_g + q1.c_s)\n",
    "beta_2 = c_g/(c_g + q2.c_s)\n",
    "\n",
    "# Operators\n",
    "b = destroy(r.dim)\n",
    "\n",
    "# Free Hamiltonian\n",
    "h0 = tensor(q1.h, q2.h, r.h)\n",
    "\n",
    "# Interacting Hamiltonian\n",
    "h1r = tensor(- 1j * 2 * beta_1 * e * r.v_rms / hbar * 1e-9 * q1.number[1], qeye(q2.dim), (b - b.dag()))\n",
    "h2r = tensor(qeye(q1.dim), - 1j * 2 * beta_2 * e * r.v_rms / hbar * 1e-9 * q2.number[1], (b - b.dag()))\n",
    "hint = h1r + h2r\n",
    "\n",
    "# Total Hamiltonian\n",
    "h = h0 + hint"
   ]
  },
  {
   "cell_type": "code",
   "execution_count": 4,
   "metadata": {},
   "outputs": [
    {
     "data": {
      "text/latex": [
       "Quantum object: dims = [[3, 3, 5], [3, 3, 5]], shape = (45, 45), type = oper, isherm = True $ \\\\ \\left(\\begin{matrix}0.0 & 0.0 & 0.0 & 0.0 & 0.0 & \\cdots & 0.0 & 0.0 & 0.0 & 0.0 & 0.0\\\\0.0 & 6.961 & 0.0 & 0.0 & 0.0 & \\cdots & 0.0 & 0.0 & 0.0 & 0.0 & 0.0\\\\0.0 & 0.0 & 13.922 & 0.0 & 0.0 & \\cdots & 0.0 & 0.0 & 0.0 & 0.0 & 0.0\\\\0.0 & 0.0 & 0.0 & 20.883 & 0.0 & \\cdots & 0.0 & 0.0 & 0.0 & 0.0 & 0.0\\\\0.0 & 0.0 & 0.0 & 0.0 & 27.844 & \\cdots & 0.0 & 0.0 & 0.0 & 0.0 & 0.0\\\\\\vdots & \\vdots & \\vdots & \\vdots & \\vdots & \\ddots & \\vdots & \\vdots & \\vdots & \\vdots & \\vdots\\\\0.0 & 0.0 & 0.0 & 0.0 & 0.0 & \\cdots & 0.0 & 0.0 & 0.0 & 0.0 & 0.0\\\\0.0 & 0.0 & 0.0 & 0.0 & 0.0 & \\cdots & 0.0 & 6.961 & 0.0 & 0.0 & 0.0\\\\0.0 & 0.0 & 0.0 & 0.0 & 0.0 & \\cdots & 0.0 & 0.0 & 13.922 & 0.0 & 0.0\\\\0.0 & 0.0 & 0.0 & 0.0 & 0.0 & \\cdots & 0.0 & 0.0 & 0.0 & 20.883 & 0.0\\\\0.0 & 0.0 & 0.0 & 0.0 & 0.0 & \\cdots & 0.0 & 0.0 & 0.0 & 0.0 & 27.844\\\\\\end{matrix}\\right)$"
      ],
      "text/plain": [
       "Quantum object: dims = [[3, 3, 5], [3, 3, 5]], shape = (45, 45), type = oper, isherm = True\n",
       "Qobj data =\n",
       "[[ 0.        +0.j  0.        +0.j  0.        +0.j ...  0.        +0.j\n",
       "   0.        +0.j  0.        +0.j]\n",
       " [ 0.        +0.j  6.96100175+0.j  0.        +0.j ...  0.        +0.j\n",
       "   0.        +0.j  0.        +0.j]\n",
       " [ 0.        +0.j  0.        +0.j 13.9220035 +0.j ...  0.        +0.j\n",
       "   0.        +0.j  0.        +0.j]\n",
       " ...\n",
       " [ 0.        +0.j  0.        +0.j  0.        +0.j ... 13.9220035 +0.j\n",
       "   0.        +0.j  0.        +0.j]\n",
       " [ 0.        +0.j  0.        +0.j  0.        +0.j ...  0.        +0.j\n",
       "  20.88300526+0.j  0.        +0.j]\n",
       " [ 0.        +0.j  0.        +0.j  0.        +0.j ...  0.        +0.j\n",
       "   0.        +0.j 27.84400701+0.j]]"
      ]
     },
     "execution_count": 4,
     "metadata": {},
     "output_type": "execute_result"
    }
   ],
   "source": [
    "h"
   ]
  },
  {
   "cell_type": "code",
   "execution_count": 5,
   "metadata": {},
   "outputs": [
    {
     "data": {
      "text/latex": [
       "Quantum object: dims = [[3, 3, 5], [3, 3, 5]], shape = (45, 45), type = oper, isherm = True $ \\\\ \\left(\\begin{matrix}0.0 & 0.0 & 0.0 & 0.0 & 0.0 & \\cdots & 0.0 & 0.0 & 0.0 & 0.0 & 0.0\\\\0.0 & 6.961 & 0.0 & 0.0 & 0.0 & \\cdots & 0.0 & 0.0 & 0.0 & 0.0 & 0.0\\\\0.0 & 0.0 & 13.922 & 0.0 & 0.0 & \\cdots & 0.0 & 0.0 & 0.0 & 0.0 & 0.0\\\\0.0 & 0.0 & 0.0 & 20.883 & 0.0 & \\cdots & 0.0 & 0.0 & 0.0 & 0.0 & 0.0\\\\0.0 & 0.0 & 0.0 & 0.0 & 27.844 & \\cdots & 0.0 & 0.0 & 0.0 & 0.0 & 0.0\\\\\\vdots & \\vdots & \\vdots & \\vdots & \\vdots & \\ddots & \\vdots & \\vdots & \\vdots & \\vdots & \\vdots\\\\0.0 & 0.0 & 0.0 & 0.0 & 0.0 & \\cdots & 0.0 & 0.0 & 0.0 & 0.0 & 0.0\\\\0.0 & 0.0 & 0.0 & 0.0 & 0.0 & \\cdots & 0.0 & 6.961 & 0.0 & 0.0 & 0.0\\\\0.0 & 0.0 & 0.0 & 0.0 & 0.0 & \\cdots & 0.0 & 0.0 & 13.922 & 0.0 & 0.0\\\\0.0 & 0.0 & 0.0 & 0.0 & 0.0 & \\cdots & 0.0 & 0.0 & 0.0 & 20.883 & 0.0\\\\0.0 & 0.0 & 0.0 & 0.0 & 0.0 & \\cdots & 0.0 & 0.0 & 0.0 & 0.0 & 27.844\\\\\\end{matrix}\\right)$"
      ],
      "text/plain": [
       "Quantum object: dims = [[3, 3, 5], [3, 3, 5]], shape = (45, 45), type = oper, isherm = True\n",
       "Qobj data =\n",
       "[[ 0.          0.          0.         ...  0.          0.\n",
       "   0.        ]\n",
       " [ 0.          6.96100175  0.         ...  0.          0.\n",
       "   0.        ]\n",
       " [ 0.          0.         13.9220035  ...  0.          0.\n",
       "   0.        ]\n",
       " ...\n",
       " [ 0.          0.          0.         ... 13.9220035   0.\n",
       "   0.        ]\n",
       " [ 0.          0.          0.         ...  0.         20.88300526\n",
       "   0.        ]\n",
       " [ 0.          0.          0.         ...  0.          0.\n",
       "  27.84400701]]"
      ]
     },
     "execution_count": 5,
     "metadata": {},
     "output_type": "execute_result"
    }
   ],
   "source": [
    "h0"
   ]
  },
  {
   "cell_type": "code",
   "execution_count": 6,
   "metadata": {},
   "outputs": [
    {
     "data": {
      "text/latex": [
       "Quantum object: dims = [[3, 3, 5], [3, 3, 5]], shape = (45, 45), type = oper, isherm = True $ \\\\ \\left(\\begin{matrix}0.0 & 0.0 & 0.0 & 0.0 & 0.0 & \\cdots & 0.0 & 0.0 & 0.0 & 0.0 & 0.0\\\\0.0 & 0.0 & 0.0 & 0.0 & 0.0 & \\cdots & 0.0 & 0.0 & 0.0 & 0.0 & 0.0\\\\0.0 & 0.0 & 0.0 & 0.0 & 0.0 & \\cdots & 0.0 & 0.0 & 0.0 & 0.0 & 0.0\\\\0.0 & 0.0 & 0.0 & 0.0 & 0.0 & \\cdots & 0.0 & 0.0 & 0.0 & 0.0 & 0.0\\\\0.0 & 0.0 & 0.0 & 0.0 & 0.0 & \\cdots & 0.0 & 0.0 & 0.0 & 0.0 & 0.0\\\\\\vdots & \\vdots & \\vdots & \\vdots & \\vdots & \\ddots & \\vdots & \\vdots & \\vdots & \\vdots & \\vdots\\\\0.0 & 0.0 & 0.0 & 0.0 & 0.0 & \\cdots & 0.0 & 0.0 & 0.0 & 0.0 & 0.0\\\\0.0 & 0.0 & 0.0 & 0.0 & 0.0 & \\cdots & 0.0 & 0.0 & 0.0 & 0.0 & 0.0\\\\0.0 & 0.0 & 0.0 & 0.0 & 0.0 & \\cdots & 0.0 & 0.0 & 0.0 & 0.0 & 0.0\\\\0.0 & 0.0 & 0.0 & 0.0 & 0.0 & \\cdots & 0.0 & 0.0 & 0.0 & 0.0 & 0.0\\\\0.0 & 0.0 & 0.0 & 0.0 & 0.0 & \\cdots & 0.0 & 0.0 & 0.0 & 0.0 & 0.0\\\\\\end{matrix}\\right)$"
      ],
      "text/plain": [
       "Quantum object: dims = [[3, 3, 5], [3, 3, 5]], shape = (45, 45), type = oper, isherm = True\n",
       "Qobj data =\n",
       "[[0.+0.j 0.+0.j 0.+0.j ... 0.+0.j 0.+0.j 0.+0.j]\n",
       " [0.+0.j 0.+0.j 0.+0.j ... 0.+0.j 0.+0.j 0.+0.j]\n",
       " [0.+0.j 0.+0.j 0.+0.j ... 0.+0.j 0.+0.j 0.+0.j]\n",
       " ...\n",
       " [0.+0.j 0.+0.j 0.+0.j ... 0.+0.j 0.+0.j 0.+0.j]\n",
       " [0.+0.j 0.+0.j 0.+0.j ... 0.+0.j 0.+0.j 0.+0.j]\n",
       " [0.+0.j 0.+0.j 0.+0.j ... 0.+0.j 0.+0.j 0.+0.j]]"
      ]
     },
     "execution_count": 6,
     "metadata": {},
     "output_type": "execute_result"
    }
   ],
   "source": [
    "hint"
   ]
  },
  {
   "cell_type": "code",
   "execution_count": 7,
   "metadata": {},
   "outputs": [],
   "source": [
    "zero_matrix = tensor(0*qeye(3), 0*qeye(3), 0*qeye(5))"
   ]
  },
  {
   "cell_type": "code",
   "execution_count": 8,
   "metadata": {},
   "outputs": [
    {
     "data": {
      "text/latex": [
       "Quantum object: dims = [[3, 3, 5], [3, 3, 5]], shape = (45, 45), type = oper, isherm = True $ \\\\ \\left(\\begin{matrix}0.0 & 0.0 & 0.0 & 0.0 & 0.0 & \\cdots & 0.0 & 0.0 & 0.0 & 0.0 & 0.0\\\\0.0 & 0.0 & 0.0 & 0.0 & 0.0 & \\cdots & 0.0 & 0.0 & 0.0 & 0.0 & 0.0\\\\0.0 & 0.0 & 0.0 & 0.0 & 0.0 & \\cdots & 0.0 & 0.0 & 0.0 & 0.0 & 0.0\\\\0.0 & 0.0 & 0.0 & 0.0 & 0.0 & \\cdots & 0.0 & 0.0 & 0.0 & 0.0 & 0.0\\\\0.0 & 0.0 & 0.0 & 0.0 & 0.0 & \\cdots & 0.0 & 0.0 & 0.0 & 0.0 & 0.0\\\\\\vdots & \\vdots & \\vdots & \\vdots & \\vdots & \\ddots & \\vdots & \\vdots & \\vdots & \\vdots & \\vdots\\\\0.0 & 0.0 & 0.0 & 0.0 & 0.0 & \\cdots & 0.0 & 0.0 & 0.0 & 0.0 & 0.0\\\\0.0 & 0.0 & 0.0 & 0.0 & 0.0 & \\cdots & 0.0 & 0.0 & 0.0 & 0.0 & 0.0\\\\0.0 & 0.0 & 0.0 & 0.0 & 0.0 & \\cdots & 0.0 & 0.0 & 0.0 & 0.0 & 0.0\\\\0.0 & 0.0 & 0.0 & 0.0 & 0.0 & \\cdots & 0.0 & 0.0 & 0.0 & 0.0 & 0.0\\\\0.0 & 0.0 & 0.0 & 0.0 & 0.0 & \\cdots & 0.0 & 0.0 & 0.0 & 0.0 & 0.0\\\\\\end{matrix}\\right)$"
      ],
      "text/plain": [
       "Quantum object: dims = [[3, 3, 5], [3, 3, 5]], shape = (45, 45), type = oper, isherm = True\n",
       "Qobj data =\n",
       "[[0. 0. 0. ... 0. 0. 0.]\n",
       " [0. 0. 0. ... 0. 0. 0.]\n",
       " [0. 0. 0. ... 0. 0. 0.]\n",
       " ...\n",
       " [0. 0. 0. ... 0. 0. 0.]\n",
       " [0. 0. 0. ... 0. 0. 0.]\n",
       " [0. 0. 0. ... 0. 0. 0.]]"
      ]
     },
     "execution_count": 8,
     "metadata": {},
     "output_type": "execute_result"
    }
   ],
   "source": [
    "zero_matrix"
   ]
  },
  {
   "cell_type": "code",
   "execution_count": 9,
   "metadata": {},
   "outputs": [
    {
     "data": {
      "text/plain": [
       "False"
      ]
     },
     "execution_count": 9,
     "metadata": {},
     "output_type": "execute_result"
    }
   ],
   "source": [
    "hint == zero_matrix"
   ]
  },
  {
   "cell_type": "code",
   "execution_count": 10,
   "metadata": {},
   "outputs": [],
   "source": [
    "# Eigenvectors\n",
    "_, eigenvectors_q1 = q1.h.eigenstates()\n",
    "_, eigenvectors_q2 = q2.h.eigenstates()\n",
    "_, eigenvectors_r = r.h.eigenstates()\n",
    "\n",
    "# Projectors (|0><0|+|1><1|) ⊗ (|0><0|+|1><1|) ⊗ Identity\n",
    "# Each tensor product is an energy eigenstate of qubits' Hamiltonian, for the resonator an identity is used\n",
    "# Qubit 1 ⊗ Qubit 2 ⊗ Resonator\n",
    "p = tensor(eigenvectors_q1[0] * eigenvectors_q1[0].dag() + eigenvectors_q1[1] * eigenvectors_q1[1].dag(), eigenvectors_q2[0] * eigenvectors_q2[0].dag() + eigenvectors_q2[1] * eigenvectors_q2[1].dag(), qeye(r.dim))\n",
    "\n",
    "# S matrix from Sylvester equation (https://docs.scipy.org/doc/scipy/reference/generated/scipy.linalg.solve_sylvester.html)\n",
    "s = Qobj(solve_sylvester(-h0.full(), h0.full(), -hint.full()))\n",
    "\n",
    "# Effective Hamiltonian\n",
    "heff = Qobj(h0.full() + 0.5 * commutator(s.full(), hint.full()))\n",
    "\n",
    "# Reduced Hamiltonian\n",
    "hred = Qobj(p * heff.full() * p)"
   ]
  },
  {
   "cell_type": "code",
   "execution_count": 11,
   "metadata": {},
   "outputs": [
    {
     "data": {
      "text/latex": [
       "Quantum object: dims = [[3, 3, 5], [3, 3, 5]], shape = (45, 45), type = oper, isherm = True $ \\\\ \\left(\\begin{matrix}0.547 & 0.0 & 0.0 & 0.0 & 0.0 & \\cdots & 0.068 & 0.0 & 0.0 & 0.0 & 0.0\\\\0.0 & 0.547 & 0.0 & 0.0 & 0.0 & \\cdots & 0.0 & 0.068 & 0.0 & 0.0 & 0.0\\\\0.0 & 0.0 & 0.547 & 0.0 & 0.0 & \\cdots & 0.0 & 0.0 & 0.068 & 0.0 & 0.0\\\\0.0 & 0.0 & 0.0 & 0.547 & 0.0 & \\cdots & 0.0 & 0.0 & 0.0 & 0.068 & 0.0\\\\0.0 & 0.0 & 0.0 & 0.0 & 0.547 & \\cdots & 0.0 & 0.0 & 0.0 & 0.0 & 0.068\\\\\\vdots & \\vdots & \\vdots & \\vdots & \\vdots & \\ddots & \\vdots & \\vdots & \\vdots & \\vdots & \\vdots\\\\0.068 & 0.0 & 0.0 & 0.0 & 0.0 & \\cdots & 0.547 & 0.0 & 0.0 & 0.0 & 0.0\\\\0.0 & 0.068 & 0.0 & 0.0 & 0.0 & \\cdots & 0.0 & 0.547 & 0.0 & 0.0 & 0.0\\\\0.0 & 0.0 & 0.068 & 0.0 & 0.0 & \\cdots & 0.0 & 0.0 & 0.547 & 0.0 & 0.0\\\\0.0 & 0.0 & 0.0 & 0.068 & 0.0 & \\cdots & 0.0 & 0.0 & 0.0 & 0.547 & 0.0\\\\0.0 & 0.0 & 0.0 & 0.0 & 0.068 & \\cdots & 0.0 & 0.0 & 0.0 & 0.0 & 0.547\\\\\\end{matrix}\\right)$"
      ],
      "text/plain": [
       "Quantum object: dims = [[3, 3, 5], [3, 3, 5]], shape = (45, 45), type = oper, isherm = True\n",
       "Qobj data =\n",
       "[[0.54687211 0.         0.         ... 0.         0.         0.        ]\n",
       " [0.         0.54687211 0.         ... 0.         0.         0.        ]\n",
       " [0.         0.         0.54687211 ... 0.06785388 0.         0.        ]\n",
       " ...\n",
       " [0.         0.         0.06785388 ... 0.54687211 0.         0.        ]\n",
       " [0.         0.         0.         ... 0.         0.54687211 0.        ]\n",
       " [0.         0.         0.         ... 0.         0.         0.54687211]]"
      ]
     },
     "execution_count": 11,
     "metadata": {},
     "output_type": "execute_result"
    }
   ],
   "source": [
    "p"
   ]
  },
  {
   "cell_type": "code",
   "execution_count": 12,
   "metadata": {},
   "outputs": [
    {
     "data": {
      "text/latex": [
       "Quantum object: dims = [[45], [45]], shape = (45, 45), type = oper, isherm = False $ \\\\ \\left(\\begin{matrix}0.0 & 7.996\\times10^{-05}j & 0.0 & 0.0 & 0.0 & \\cdots & 0.0 & -7.996\\times10^{-05}j & 0.0 & 0.0 & 0.0\\\\7.996\\times10^{-05}j & 2.851\\times10^{-05}j & -4.783\\times10^{-04}j & 0.0 & 0.0 & \\cdots & 4.709\\times10^{-04}j & 5.658\\times10^{-05}j & -3.147\\times10^{-04}j & 0.0 & 0.0\\\\0.0 & -4.783\\times10^{-04}j & 1.664\\times10^{-05}j & -4.195\\times10^{-04}j & 0.0 & \\cdots & 0.0 & 8.669\\times10^{-04}j & -7.071\\times10^{-06}j & -6.072\\times10^{-05}j & 0.0\\\\0.0 & 0.0 & -4.195\\times10^{-04}j & -2.753\\times10^{-05}j & -4.372\\times10^{-04}j & \\cdots & 0.0 & 0.0 & 7.369\\times10^{-04}j & -1.083\\times10^{-04}j & 6.857\\times10^{-05}j\\\\0.0 & 0.0 & 0.0 & -4.372\\times10^{-04}j & 6.588\\times10^{-05}j & \\cdots & 0.0 & 0.0 & 0.0 & 7.122\\times10^{-04}j & -1.440\\times10^{-04}j\\\\\\vdots & \\vdots & \\vdots & \\vdots & \\vdots & \\ddots & \\vdots & \\vdots & \\vdots & \\vdots & \\vdots\\\\0.0 & 4.709\\times10^{-04}j & 0.0 & 0.0 & 0.0 & \\cdots & 0.0 & -4.709\\times10^{-04}j & 0.0 & 0.0 & 0.0\\\\-7.996\\times10^{-05}j & 5.658\\times10^{-05}j & 8.669\\times10^{-04}j & 0.0 & 0.0 & \\cdots & -4.709\\times10^{-04}j & 2.851\\times10^{-05}j & -7.390\\times10^{-05}j & 0.0 & 0.0\\\\0.0 & -3.147\\times10^{-04}j & -7.071\\times10^{-06}j & 7.369\\times10^{-04}j & 0.0 & \\cdots & 0.0 & -7.390\\times10^{-05}j & 1.664\\times10^{-05}j & -2.567\\times10^{-04}j & 0.0\\\\0.0 & 0.0 & -6.072\\times10^{-05}j & -1.083\\times10^{-04}j & 7.122\\times10^{-04}j & \\cdots & 0.0 & 0.0 & -2.567\\times10^{-04}j & -2.753\\times10^{-05}j & -3.435\\times10^{-04}j\\\\0.0 & 0.0 & 0.0 & 6.857\\times10^{-05}j & -1.440\\times10^{-04}j & \\cdots & 0.0 & 0.0 & 0.0 & -3.435\\times10^{-04}j & 6.588\\times10^{-05}j\\\\\\end{matrix}\\right)$"
      ],
      "text/plain": [
       "Quantum object: dims = [[45], [45]], shape = (45, 45), type = oper, isherm = False\n",
       "Qobj data =\n",
       "[[0.+0.00000000e+00j 0.+7.99593169e-05j 0.-3.19184637e-19j ...\n",
       "  0.-6.78942941e-19j 0.+1.28346707e-18j 0.-1.25679584e-19j]\n",
       " [0.+7.99593169e-05j 0.+2.85114536e-05j 0.-4.78267133e-04j ...\n",
       "  0.-3.14747759e-04j 0.-1.32894531e-18j 0.+1.07313848e-18j]\n",
       " [0.+3.19184637e-19j 0.-4.78267133e-04j 0.+1.66390433e-05j ...\n",
       "  0.-7.07066429e-06j 0.-6.07170133e-05j 0.+1.03708520e-18j]\n",
       " ...\n",
       " [0.+6.78942941e-19j 0.-3.14747759e-04j 0.-7.07066429e-06j ...\n",
       "  0.+1.66390433e-05j 0.-2.56687080e-04j 0.+1.62758683e-18j]\n",
       " [0.+1.28346707e-18j 0.+9.24049514e-19j 0.-6.07170133e-05j ...\n",
       "  0.-2.56687080e-04j 0.-2.75344836e-05j 0.-3.43534548e-04j]\n",
       " [0.+1.25679584e-19j 0.+9.90176285e-19j 0.-1.07470021e-18j ...\n",
       "  0.-1.17408240e-18j 0.-3.43534548e-04j 0.+6.58787133e-05j]]"
      ]
     },
     "execution_count": 12,
     "metadata": {},
     "output_type": "execute_result"
    }
   ],
   "source": [
    "s"
   ]
  },
  {
   "cell_type": "code",
   "execution_count": 13,
   "metadata": {},
   "outputs": [
    {
     "data": {
      "text/latex": [
       "Quantum object: dims = [[45], [45]], shape = (45, 45), type = oper, isherm = True $ \\\\ \\left(\\begin{matrix}0.0 & 0.0 & 0.0 & 0.0 & 0.0 & \\cdots & 0.0 & 0.0 & 0.0 & 0.0 & 0.0\\\\0.0 & 6.961 & 0.0 & 0.0 & 0.0 & \\cdots & 0.0 & 0.0 & 0.0 & 0.0 & 0.0\\\\0.0 & 0.0 & 13.922 & 0.0 & 0.0 & \\cdots & 0.0 & 0.0 & 0.0 & 0.0 & 0.0\\\\0.0 & 0.0 & 0.0 & 20.883 & 0.0 & \\cdots & 0.0 & 0.0 & 0.0 & 0.0 & 0.0\\\\0.0 & 0.0 & 0.0 & 0.0 & 27.844 & \\cdots & 0.0 & 0.0 & 0.0 & 0.0 & 0.0\\\\\\vdots & \\vdots & \\vdots & \\vdots & \\vdots & \\ddots & \\vdots & \\vdots & \\vdots & \\vdots & \\vdots\\\\0.0 & 0.0 & 0.0 & 0.0 & 0.0 & \\cdots & 0.0 & 0.0 & 0.0 & 0.0 & 0.0\\\\0.0 & 0.0 & 0.0 & 0.0 & 0.0 & \\cdots & 0.0 & 6.961 & 0.0 & 0.0 & 0.0\\\\0.0 & 0.0 & 0.0 & 0.0 & 0.0 & \\cdots & 0.0 & 0.0 & 13.922 & 0.0 & 0.0\\\\0.0 & 0.0 & 0.0 & 0.0 & 0.0 & \\cdots & 0.0 & 0.0 & 0.0 & 20.883 & 0.0\\\\0.0 & 0.0 & 0.0 & 0.0 & 0.0 & \\cdots & 0.0 & 0.0 & 0.0 & 0.0 & 27.844\\\\\\end{matrix}\\right)$"
      ],
      "text/plain": [
       "Quantum object: dims = [[45], [45]], shape = (45, 45), type = oper, isherm = True\n",
       "Qobj data =\n",
       "[[ 0.          0.          0.         ...  0.          0.\n",
       "   0.        ]\n",
       " [ 0.          6.96100175  0.         ...  0.          0.\n",
       "   0.        ]\n",
       " [ 0.          0.         13.9220035  ...  0.          0.\n",
       "   0.        ]\n",
       " ...\n",
       " [ 0.          0.          0.         ... 13.9220035   0.\n",
       "   0.        ]\n",
       " [ 0.          0.          0.         ...  0.         20.88300526\n",
       "   0.        ]\n",
       " [ 0.          0.          0.         ...  0.          0.\n",
       "  27.84400701]]"
      ]
     },
     "execution_count": 13,
     "metadata": {},
     "output_type": "execute_result"
    }
   ],
   "source": [
    "heff"
   ]
  },
  {
   "cell_type": "code",
   "execution_count": 14,
   "metadata": {},
   "outputs": [
    {
     "data": {
      "text/latex": [
       "Quantum object: dims = [[45], [45]], shape = (45, 45), type = oper, isherm = True $ \\\\ \\left(\\begin{matrix}0.0 & 0.0 & 0.0 & 0.0 & 0.0 & \\cdots & 0.0 & 0.0 & 0.0 & 0.0 & 0.0\\\\0.0 & 35.206 & 0.0 & 0.0 & 0.0 & \\cdots & 0.0 & 73.889 & 0.0 & 0.0 & 0.0\\\\0.0 & 0.0 & 70.412 & 0.0 & 0.0 & \\cdots & 0.0 & 0.0 & 147.779 & 0.0 & 0.0\\\\0.0 & 0.0 & 0.0 & 105.619 & 0.0 & \\cdots & 0.0 & 0.0 & 0.0 & 221.668 & 0.0\\\\0.0 & 0.0 & 0.0 & 0.0 & 140.825 & \\cdots & 0.0 & 0.0 & 0.0 & 0.0 & 295.557\\\\\\vdots & \\vdots & \\vdots & \\vdots & \\vdots & \\ddots & \\vdots & \\vdots & \\vdots & \\vdots & \\vdots\\\\0.0 & 0.0 & 0.0 & 0.0 & 0.0 & \\cdots & 0.0 & 0.0 & 0.0 & 0.0 & 0.0\\\\0.0 & 73.889 & 0.0 & 0.0 & 0.0 & \\cdots & 0.0 & 35.206 & 0.0 & 0.0 & 0.0\\\\0.0 & 0.0 & 147.779 & 0.0 & 0.0 & \\cdots & 0.0 & 0.0 & 70.412 & 0.0 & 0.0\\\\0.0 & 0.0 & 0.0 & 221.668 & 0.0 & \\cdots & 0.0 & 0.0 & 0.0 & 105.619 & 0.0\\\\0.0 & 0.0 & 0.0 & 0.0 & 295.557 & \\cdots & 0.0 & 0.0 & 0.0 & 0.0 & 140.825\\\\\\end{matrix}\\right)$"
      ],
      "text/plain": [
       "Quantum object: dims = [[45], [45]], shape = (45, 45), type = oper, isherm = True\n",
       "Qobj data =\n",
       "[[  0.           0.           0.         ...   0.           0.\n",
       "    0.        ]\n",
       " [  0.          35.20624372   0.         ...   0.           0.\n",
       "    0.        ]\n",
       " [  0.           0.          70.41248745 ... 147.77858251   0.\n",
       "    0.        ]\n",
       " ...\n",
       " [  0.           0.         147.77858251 ...  70.41248745   0.\n",
       "    0.        ]\n",
       " [  0.           0.           0.         ...   0.         105.61873117\n",
       "    0.        ]\n",
       " [  0.           0.           0.         ...   0.           0.\n",
       "  140.82497489]]"
      ]
     },
     "execution_count": 14,
     "metadata": {},
     "output_type": "execute_result"
    }
   ],
   "source": [
    "hred"
   ]
  },
  {
   "cell_type": "code",
   "execution_count": 15,
   "metadata": {},
   "outputs": [],
   "source": [
    "# States\n",
    "psi = np.empty((2, 2, r.dim), dtype=Qobj)\n",
    "\n",
    "for i in range(2):\n",
    "    for j in range(2):\n",
    "        for k in range(r.dim):\n",
    "            psi[i,j,k] = tensor(eigenvectors_q1[i], eigenvectors_q2[j], eigenvectors_r[k])\n",
    "\n",
    "# Time\n",
    "t_list = np.linspace(0, 20, 1000)"
   ]
  },
  {
   "cell_type": "code",
   "execution_count": 16,
   "metadata": {},
   "outputs": [],
   "source": [
    "# Master Equation\n",
    "result = mesolve(H=hred, rho0=psi[1,0,0], tlist=t_list, c_ops=[], e_ops=[], args={})"
   ]
  },
  {
   "cell_type": "code",
   "execution_count": 17,
   "metadata": {},
   "outputs": [],
   "source": [
    "# Expected value\n",
    "prob = np.empty((2, 2, r.dim), dtype=Qobj)\n",
    "\n",
    "for i in range(2):\n",
    "    for j in range(2):\n",
    "        for k in range(r.dim):\n",
    "            prob[i,j,k] = expect(psi[i,j,k]*psi[i,j,k].dag(), result.states)"
   ]
  },
  {
   "cell_type": "code",
   "execution_count": 18,
   "metadata": {},
   "outputs": [
    {
     "data": {
      "image/png": "[encoded data removed]",
      "text/plain": [
       "<Figure size 1000x800 with 1 Axes>"
      ]
     },
     "metadata": {},
     "output_type": "display_data"
    }
   ],
   "source": [
    "# Parameters\n",
    "wq1 = round(q1.w / (2 * np.pi), 2)\n",
    "wq2 = round(q2.w / (2 * np.pi), 2)\n",
    "wr = round(r.w, 2)\n",
    "alpha1 = round(q1.e_c * 1e3,2)\n",
    "alpha2 = round(q2.e_c * 1e3,2)\n",
    "g1_01 = round(2*beta_1*e*r.v_rms/hbar*(q1.e_j / (32 * q1.e_c)) ** (1 / 4)/(2*np.pi)*1e-6)\n",
    "g1_12 = round(np.sqrt(2)*2*beta_1*e*r.v_rms/hbar*(q1.e_j / (32 * q1.e_c)) ** (1 / 4)/(2*np.pi)*1e-6)\n",
    "g2_01 = round(2*beta_2*e*r.v_rms/hbar*(q2.e_j / (32 * q2.e_c)) ** (1 / 4)/(2*np.pi)*1e-6)\n",
    "g2_12 = round(np.sqrt(2)*2*beta_2*e*r.v_rms/hbar*(q2.e_j / (32 * q2.e_c)) ** (1 / 4)/(2*np.pi)*1e-6)\n",
    "\n",
    "# Plot\n",
    "fig = plt.figure(figsize=(10,8))\n",
    "\n",
    "for i in range(2):\n",
    "    for j in range(2):\n",
    "        for k in range(r.dim):\n",
    "            if np.max(prob[i,j,k]) > 0.01:\n",
    "                if (i,j,k) == (1,0,0) or (i,j,k) == (0,1,0):\n",
    "                    plt.plot(t_list, prob[i,j,k], label=f\"$|{i}{j}{k}\\\\rangle$\")\n",
    "                    continue\n",
    "                plt.plot(t_list, prob[i,j,k], label=f\"$|{i}{j}{k}\\\\rangle$\", linestyle=\"--\", alpha=0.5)\n",
    "\n",
    "plt.ylabel(\"Probability\")\n",
    "plt.xlabel(\"Time, t [ns]\")\n",
    "plt.title(\"Qubit 1 - Qubit 2 - Resonator\")\n",
    "plt.legend(bbox_to_anchor=(1.00, 1.00), loc='upper left')\n",
    "\n",
    "text = f\"\"\"Parameters\n",
    "\n",
    "$\\\\omega_{{q1\\,\\,}}/\\,\\,2\\\\pi = ${wq1} GHz\n",
    "$\\\\omega_{{q2\\,\\,}}/\\,\\,2\\\\pi = ${wq2} GHz\n",
    "$\\\\omega_{{r\\,\\,}}/\\,\\,2\\\\pi = $ {wr} GHz\n",
    "$\\\\alpha_{{q1\\,\\,}}/\\,\\,2\\\\pi = - ${alpha1} MHz\n",
    "$\\\\alpha_{{q2\\,\\,}}/\\,\\,2\\\\pi = - ${alpha2} MHz\n",
    "\n",
    "Qubit 1 - Resonator\n",
    "\n",
    "$g_{{0,1\\,\\,}}/\\,\\,2\\\\pi = ${g1_01} MHz\n",
    "$g_{{1,2\\,\\,}}/\\,\\,2\\\\pi = ${g1_12} MHz\n",
    "\n",
    "Qubit 2 - Resonator\n",
    "\n",
    "$g_{{0,1\\,\\,}}/\\,\\,2\\\\pi = ${g2_01} MHz\n",
    "$g_{{1,2\\,\\,}}/\\,\\,2\\\\pi = ${g2_12} MHz\n",
    "\n",
    "Levels\n",
    "\n",
    "Qubit 1 = {q1.dim}\n",
    "Qubit 2 = {q2.dim}\n",
    "Resonator = {r.dim}\"\"\"\n",
    "\n",
    "plt.text(1.015, 0.1, text, fontsize=10, transform=plt.gca().transAxes,\n",
    "         bbox=dict(facecolor='white', edgecolor='black', linewidth=1, alpha=0.15))\n",
    "\n",
    "plt.grid()\n",
    "plt.show()"
   ]
  }
 ],
 "metadata": {
  "kernelspec": {
   "display_name": ".venv",
   "language": "python",
   "name": "python3"
  },
  "language_info": {
   "codemirror_mode": {
    "name": "ipython",
    "version": 3
   },
   "file_extension": ".py",
   "mimetype": "text/x-python",
   "name": "python",
   "nbconvert_exporter": "python",
   "pygments_lexer": "ipython3",
   "version": "3.11.7"
  }
 },
 "nbformat": 4,
 "nbformat_minor": 2
}
