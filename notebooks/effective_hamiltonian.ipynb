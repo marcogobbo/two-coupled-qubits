{
 "cells": [
  {
   "cell_type": "code",
   "execution_count": 14,
   "metadata": {},
   "outputs": [],
   "source": [
    "import matplotlib.pyplot as plt\n",
    "import numpy as np\n",
    "from qutip import *\n",
    "from scipy.constants import e, h, hbar, pi\n",
    "from scipy.linalg import solve_sylvester\n",
    "from two_coupled_qubits import ChargeQubit, Resonator\n",
    "from IPython.display import display, Math\n",
    "\n",
    "def comm(a, b):\n",
    "    return a@b - b@a\n",
    "\n",
    "def reduce_matrix(matrix, dim):\n",
    "    reduced_matrix = np.zeros((4, 4), dtype=complex)\n",
    "\n",
    "    reduced_matrix[0, 0] = matrix[0, 0]\n",
    "    reduced_matrix[0, 1] = matrix[0, dim]\n",
    "    reduced_matrix[0, 2] = matrix[0, dim**2]\n",
    "    reduced_matrix[0, 3] = matrix[0, dim**2 + dim]\n",
    "    reduced_matrix[1, 0] = matrix[dim, 0]\n",
    "    reduced_matrix[1, 1] = matrix[dim, dim]\n",
    "    reduced_matrix[1, 2] = matrix[dim, dim**2]\n",
    "    reduced_matrix[1, 3] = matrix[dim, dim**2 + dim]\n",
    "    reduced_matrix[2, 0] = matrix[dim**2, 0]\n",
    "    reduced_matrix[2, 1] = matrix[dim**2, dim]\n",
    "    reduced_matrix[2, 2] = matrix[dim**2, dim**2]\n",
    "    reduced_matrix[2, 3] = matrix[dim**2, dim**2 + dim]\n",
    "    reduced_matrix[3, 0] = matrix[dim**2 + dim, 0]\n",
    "    reduced_matrix[3, 1] = matrix[dim**2 + dim, dim]\n",
    "    reduced_matrix[3, 2] = matrix[dim**2 + dim, dim**2]\n",
    "    reduced_matrix[3, 3] = matrix[dim**2 + dim, dim**2 + dim]\n",
    "    \n",
    "    return Qobj(reduced_matrix)"
   ]
  },
  {
   "cell_type": "code",
   "execution_count": 15,
   "metadata": {},
   "outputs": [
    {
     "data": {
      "text/latex": [
       "$\\displaystyle \\omega_{\\text{q1}}/(2\\pi) = 5.2624 \\text{ GHz}$"
      ],
      "text/plain": [
       "<IPython.core.display.Math object>"
      ]
     },
     "metadata": {},
     "output_type": "display_data"
    },
    {
     "data": {
      "text/latex": [
       "$\\displaystyle \\omega_{\\text{q2}}/(2\\pi) = 5.2624 \\text{ GHz}$"
      ],
      "text/plain": [
       "<IPython.core.display.Math object>"
      ]
     },
     "metadata": {},
     "output_type": "display_data"
    },
    {
     "data": {
      "text/latex": [
       "$\\displaystyle \\omega_{\\text{r}}/(2\\pi) = 7.5 \\text{ GHz}$"
      ],
      "text/plain": [
       "<IPython.core.display.Math object>"
      ]
     },
     "metadata": {},
     "output_type": "display_data"
    },
    {
     "data": {
      "text/latex": [
       "$\\displaystyle g_{\\text{tr1}}/(2\\pi) = 0.2417 \\text{ GHz}$"
      ],
      "text/plain": [
       "<IPython.core.display.Math object>"
      ]
     },
     "metadata": {},
     "output_type": "display_data"
    },
    {
     "data": {
      "text/latex": [
       "$\\displaystyle g_{\\text{tr2}}/(2\\pi) = 0.2417 \\text{ GHz}$"
      ],
      "text/plain": [
       "<IPython.core.display.Math object>"
      ]
     },
     "metadata": {},
     "output_type": "display_data"
    },
    {
     "data": {
      "text/latex": [
       "$\\displaystyle \\alpha_1/(2\\pi) = -0.2308 \\text{ GHz}$"
      ],
      "text/plain": [
       "<IPython.core.display.Math object>"
      ]
     },
     "metadata": {},
     "output_type": "display_data"
    },
    {
     "data": {
      "text/latex": [
       "$\\displaystyle \\alpha_2/(2\\pi) = -0.2308 \\text{ GHz}$"
      ],
      "text/plain": [
       "<IPython.core.display.Math object>"
      ]
     },
     "metadata": {},
     "output_type": "display_data"
    }
   ],
   "source": [
    "# Qubit and Resonator Qobj\n",
    "q1 = ChargeQubit(e_c=0.23084, e_j=16.34, levels=4, n_g=0)\n",
    "q2 = ChargeQubit(e_c=0.23084, e_j=16.34, levels=4, n_g=0)\n",
    "r = Resonator(dim=9, w=(2 * pi) * 7.50, c_r=368.440)\n",
    "\n",
    "# Parameters\n",
    "c_g1 = 20\n",
    "c_g2 = 20\n",
    "beta_1 = c_g1 / (c_g1 + q1.c_s)\n",
    "beta_2 = c_g2 / (c_g2 + q2.c_s)\n",
    "g_tr1 = 2 * beta_1 * e * r.v_rms / hbar * 1e-9\n",
    "g_tr2 = 2 * beta_2 * e * r.v_rms / hbar * 1e-9\n",
    "\n",
    "display(Math(f\"\\\\omega_{{\\\\text{{q1}}}}/(2\\\\pi) = {round(q1.w / (2 * pi),4)} \\\\text{{ GHz}}\"))\n",
    "display(Math(f\"\\\\omega_{{\\\\text{{q2}}}}/(2\\\\pi) = {round(q2.w / (2 * pi),4)} \\\\text{{ GHz}}\"))\n",
    "display(Math(f\"\\\\omega_{{\\\\text{{r}}}}/(2\\\\pi) = {round(r.w / (2 * pi),4)} \\\\text{{ GHz}}\"))\n",
    "display(Math(f\"g_{{\\\\text{{tr1}}}}/(2\\\\pi) = {round(g_tr1 / (2 * pi),4)} \\\\text{{ GHz}}\"))\n",
    "display(Math(f\"g_{{\\\\text{{tr2}}}}/(2\\\\pi) = {round(g_tr2 / (2 * pi),4)} \\\\text{{ GHz}}\"))\n",
    "display(Math(f\"\\\\alpha_1/(2\\\\pi) = {round(-q1.e_c,4)} \\\\text{{ GHz}}\"))\n",
    "display(Math(f\"\\\\alpha_2/(2\\\\pi) = {round(-q2.e_c,4)} \\\\text{{ GHz}}\"))"
   ]
  },
  {
   "cell_type": "code",
   "execution_count": 16,
   "metadata": {},
   "outputs": [],
   "source": [
    "# Operators\n",
    "b = destroy(r.dim)\n",
    "\n",
    "# Diagonalize the qubits Hamiltonian\n",
    "eigenvalues, eigenvectors = q1.h.eigenstates()\n",
    "q1_h = Qobj(np.diag(eigenvalues))\n",
    "eigenvalues, eigenvectors = q2.h.eigenstates()\n",
    "q2_h = Qobj(np.diag(eigenvalues))\n",
    "\n",
    "# Free Hamiltonian\n",
    "h0 = tensor(q1_h, qeye(q1.dim), qeye(r.dim)) + \\\n",
    "     tensor(qeye(q1.dim), q2_h, qeye(r.dim)) + \\\n",
    "     tensor(qeye(q1.dim), qeye(q2.dim), r.h)\n",
    "\n",
    "# Interacting Hamiltonian\n",
    "hint = tensor(g_tr1 * q1.number[1],  qeye(q2.dim), - 1j * (b - b.dag())) + \\\n",
    "       tensor(qeye(q1.dim),  g_tr2 * q2.number[1], - 1j * (b - b.dag()))\n",
    "\n",
    "# S matrix\n",
    "s = Qobj(solve_sylvester(-h0.full(), h0.full(), -hint.full()))\n",
    "\n",
    "# Effective Interacting Hamiltonian\n",
    "hint_eff = 1/2 * (comm(s.full(),hint.full())) + \\\n",
    "           1/3 * (comm(s.full(),comm(s.full(),hint.full())))"
   ]
  },
  {
   "cell_type": "code",
   "execution_count": 17,
   "metadata": {},
   "outputs": [],
   "source": [
    "# Projecting on computational basis\n",
    "h0_red = reduce_matrix(h0, q1.dim)\n",
    "hint_eff_red = reduce_matrix(hint_eff, q1.dim)\n",
    "h_red = Qobj(h0_red.full() + hint_eff_red.full())\n",
    "\n",
    "# States |00>, |01>, |10>, |11>\n",
    "_, eigenvectors = h0_red.eigenstates()\n",
    "psi00 = eigenvectors[0]\n",
    "psi01 = eigenvectors[1]\n",
    "psi10 = eigenvectors[2]\n",
    "psi11 = eigenvectors[3]\n",
    "\n",
    "t_list = np.linspace(0, 20, 10000)\n",
    "\n",
    "# Master Equation\n",
    "result = mesolve(H=h_red, rho0=psi10, tlist=t_list, c_ops=[], e_ops=[], args={})\n",
    "prob00 = expect(psi00*psi00.dag(), result.states)\n",
    "prob01 = expect(psi01*psi01.dag(), result.states)\n",
    "prob10 = expect(psi10*psi10.dag(), result.states)\n",
    "prob11 = expect(psi11*psi11.dag(), result.states)"
   ]
  },
  {
   "cell_type": "code",
   "execution_count": 18,
   "metadata": {},
   "outputs": [
    {
     "data": {
      "image/png": "[encoded data removed]",
      "text/plain": [
       "<Figure size 800x800 with 5 Axes>"
      ]
     },
     "metadata": {},
     "output_type": "display_data"
    }
   ],
   "source": [
    "plt.style.use(\"ggplot\")\n",
    "\n",
    "plt.figure(figsize=(8, 8))\n",
    "ax1 = plt.subplot(2, 2, 1)\n",
    "ax2 = plt.subplot(2, 2, 2)\n",
    "ax3 = plt.subplot(2, 1, 2)\n",
    "\n",
    "ax1.set_aspect(\"equal\")\n",
    "cm = ax1.pcolormesh(range(4), range(4), np.abs(hint_eff_red.full()), cmap=\"viridis\")\n",
    "cbar = plt.colorbar(cm, ax=ax1, shrink=0.75)\n",
    "ax1.set_title(\"$\\\\frac{1}{2} [S, H_\\\\text{int}] + \\\\frac{1}{2} [S,[S,H_\\\\text{int}]]$\", fontsize=10)\n",
    "ax1.set_xticks([0, 1, 2, 3])\n",
    "ax1.set_xticklabels([\"00\", \"01\", \"10\", \"11\"])\n",
    "ax1.set_yticks([0, 1, 2, 3])\n",
    "ax1.set_yticklabels([\"00\", \"01\", \"10\", \"11\"])\n",
    "cbar.set_ticks(\n",
    "    [\n",
    "        round(np.min(np.abs(hint_eff_red.full())), 2),\n",
    "        round(np.max(np.abs(hint_eff_red.full())), 2),\n",
    "    ]\n",
    ")\n",
    "\n",
    "\n",
    "ax2.set_aspect(\"equal\")\n",
    "cm = ax2.pcolormesh(range(4), range(4), np.abs(h_red.full()), cmap=\"viridis\")\n",
    "cbar = plt.colorbar(cm, ax=ax2, shrink=0.75)\n",
    "ax2.set_title(\"$H_0 + \\\\frac{1}{2}[S, H_\\\\text{int}] + \\\\frac{1}{3}[S,[S,H_\\\\text{int}]]$\", fontsize=10)\n",
    "ax2.set_xticks([0, 1, 2, 3])\n",
    "ax2.set_xticklabels([\"00\", \"01\", \"10\", \"11\"])\n",
    "ax2.set_yticks([0, 1, 2, 3])\n",
    "ax2.set_yticklabels([\"00\", \"01\", \"10\", \"11\"])\n",
    "cbar.set_ticks(\n",
    "    [round(np.min(np.abs(h_red.full())), 2), round(np.max(np.abs(h_red.full())), 2)]\n",
    ")\n",
    "\n",
    "\n",
    "ax3.plot(t_list, prob00, label=\"00\", color=\"green\")\n",
    "ax3.plot(t_list, prob01, label=\"01\", color=\"blue\")\n",
    "ax3.plot(t_list, prob10, label=\"10\", color=\"red\")\n",
    "ax3.plot(t_list, prob11, label=\"11\", color=\"orange\")\n",
    "ax3.set_title(\"iSWAP\")\n",
    "ax3.set_xlabel(\"Time, t [ns]\")\n",
    "ax3.set_ylabel(\"Probability, P\")\n",
    "ax3.legend()\n",
    "\n",
    "plt.tight_layout()\n",
    "plt.show()\n"
   ]
  },
  {
   "cell_type": "code",
   "execution_count": 19,
   "metadata": {},
   "outputs": [
    {
     "data": {
      "text/latex": [
       "$\\displaystyle H_{\\text{eff}} = (-22.649+0j)\\mathbb{I}\\mathbb{I} + (-2.489+0j)\\mathbb{I}\\mathbb{Z} + (-0.145+0j)\\mathbb{X}\\mathbb{X} + (-2.489+0j)\\mathbb{Z}\\mathbb{I}$"
      ],
      "text/plain": [
       "<IPython.core.display.Math object>"
      ]
     },
     "metadata": {},
     "output_type": "display_data"
    },
    {
     "data": {
      "text/latex": [
       "$\\displaystyle \\zeta = 0j$"
      ],
      "text/plain": [
       "<IPython.core.display.Math object>"
      ]
     },
     "metadata": {},
     "output_type": "display_data"
    }
   ],
   "source": [
    "def pauli_sym(idx: int) -> str:\n",
    "    names = [\"I\", \"X\", \"Y\", \"Z\"]\n",
    "    return names[idx]\n",
    "\n",
    "pauli = [qeye(2), sigmax(), sigmay(), sigmaz()]\n",
    "terms = []\n",
    "\n",
    "for idx1, matrix1 in enumerate(pauli):\n",
    "    for idx2, matrix2 in enumerate(pauli):\n",
    "        value = 1/4 * np.trace(tensor(matrix1, matrix2).full()@h_red.full())\n",
    "        if np.abs(value) > 1e-10:\n",
    "            term = f\"{np.round(value,3)}\\\\mathbb{{{pauli_sym(idx1)}}}\\\\mathbb{{{pauli_sym(idx2)}}}\"\n",
    "            terms.append(term)\n",
    "\n",
    "expansion = \" + \".join(terms)\n",
    "display(Math(f'H_{{\\\\text{{eff}}}} = {expansion}'))\n",
    "\n",
    "value = 1/4 * np.trace(tensor(sigmaz(), sigmaz()).full()@h_red.full())\n",
    "display(Math(f'\\\\zeta = {value}'))"
   ]
  },
  {
   "cell_type": "code",
   "execution_count": 7,
   "metadata": {},
   "outputs": [
    {
     "data": {
      "text/latex": [
       "Quantum object: dims = [[13, 13, 13], [13, 13, 13]], shape = (2197, 2197), type = oper, isherm = True $ \\\\ \\left(\\begin{matrix}-27.510 & 0.0 & 0.0 & 0.0 & 0.0 & \\cdots & 0.0 & 0.0 & 0.0 & 0.0 & 0.0\\\\0.0 & 19.614 & 0.0 & 0.0 & 0.0 & \\cdots & 0.0 & 0.0 & 0.0 & 0.0 & 0.0\\\\0.0 & 0.0 & 66.737 & 0.0 & 0.0 & \\cdots & 0.0 & 0.0 & 0.0 & 0.0 & 0.0\\\\0.0 & 0.0 & 0.0 & 113.861 & 0.0 & \\cdots & 0.0 & 0.0 & 0.0 & 0.0 & 0.0\\\\0.0 & 0.0 & 0.0 & 0.0 & 160.985 & \\cdots & 0.0 & 0.0 & 0.0 & 0.0 & 0.0\\\\\\vdots & \\vdots & \\vdots & \\vdots & \\vdots & \\ddots & \\vdots & \\vdots & \\vdots & \\vdots & \\vdots\\\\0.0 & 0.0 & 0.0 & 0.0 & 0.0 & \\cdots & 449.735 & 0.0 & 0.0 & 0.0 & 0.0\\\\0.0 & 0.0 & 0.0 & 0.0 & 0.0 & \\cdots & 0.0 & 496.859 & 0.0 & 0.0 & 0.0\\\\0.0 & 0.0 & 0.0 & 0.0 & 0.0 & \\cdots & 0.0 & 0.0 & 543.982 & 0.0 & 0.0\\\\0.0 & 0.0 & 0.0 & 0.0 & 0.0 & \\cdots & 0.0 & 0.0 & 0.0 & 591.106 & 0.0\\\\0.0 & 0.0 & 0.0 & 0.0 & 0.0 & \\cdots & 0.0 & 0.0 & 0.0 & 0.0 & 638.230\\\\\\end{matrix}\\right)$"
      ],
      "text/plain": [
       "Quantum object: dims = [[13, 13, 13], [13, 13, 13]], shape = (2197, 2197), type = oper, isherm = True\n",
       "Qobj data =\n",
       "[[-27.51033398   0.           0.         ...   0.           0.\n",
       "    0.        ]\n",
       " [  0.          19.61355582   0.         ...   0.           0.\n",
       "    0.        ]\n",
       " [  0.           0.          66.73744562 ...   0.           0.\n",
       "    0.        ]\n",
       " ...\n",
       " [  0.           0.           0.         ... 543.98239498   0.\n",
       "    0.        ]\n",
       " [  0.           0.           0.         ...   0.         591.10628478\n",
       "    0.        ]\n",
       " [  0.           0.           0.         ...   0.           0.\n",
       "  638.23017459]]"
      ]
     },
     "execution_count": 7,
     "metadata": {},
     "output_type": "execute_result"
    }
   ],
   "source": [
    "h0"
   ]
  },
  {
   "cell_type": "code",
   "execution_count": 8,
   "metadata": {},
   "outputs": [
    {
     "data": {
      "text/latex": [
       "Quantum object: dims = [[2, 2], [2, 2]], shape = (4, 4), type = oper, isherm = True $ \\\\ \\left(\\begin{matrix}1.0 & 0.0 & 0.0 & 0.0\\\\0.0 & -1.0 & 0.0 & 0.0\\\\0.0 & 0.0 & -1.0 & 0.0\\\\0.0 & 0.0 & 0.0 & 1.0\\\\\\end{matrix}\\right)$"
      ],
      "text/plain": [
       "Quantum object: dims = [[2, 2], [2, 2]], shape = (4, 4), type = oper, isherm = True\n",
       "Qobj data =\n",
       "[[ 1.  0.  0.  0.]\n",
       " [ 0. -1.  0.  0.]\n",
       " [ 0.  0. -1.  0.]\n",
       " [ 0.  0.  0.  1.]]"
      ]
     },
     "execution_count": 8,
     "metadata": {},
     "output_type": "execute_result"
    }
   ],
   "source": [
    "tensor(sigmaz(),sigmaz())"
   ]
  },
  {
   "cell_type": "code",
   "execution_count": 7,
   "metadata": {},
   "outputs": [
    {
     "data": {
      "text/plain": [
       "(-90.90827489923332+0j)"
      ]
     },
     "execution_count": 7,
     "metadata": {},
     "output_type": "execute_result"
    }
   ],
   "source": [
    "np.trace(h_red.full())"
   ]
  },
  {
   "cell_type": "code",
   "execution_count": 10,
   "metadata": {},
   "outputs": [
    {
     "data": {
      "text/latex": [
       "$\\displaystyle H_{\\text{eff}} = (-22.727+0j)\\mathbb{I}\\mathbb{I} + (-2.457+0j)\\mathbb{I}\\mathbb{Z} + (-0.147+0j)\\mathbb{X}\\mathbb{X} + (-2.457+0j)\\mathbb{Z}\\mathbb{I}$"
      ],
      "text/plain": [
       "<IPython.core.display.Math object>"
      ]
     },
     "metadata": {},
     "output_type": "display_data"
    },
    {
     "data": {
      "text/latex": [
       "$\\displaystyle \\zeta = 0j$"
      ],
      "text/plain": [
       "<IPython.core.display.Math object>"
      ]
     },
     "metadata": {},
     "output_type": "display_data"
    }
   ],
   "source": [
    "def pauli_sym(idx: int) -> str:\n",
    "    names = [\"I\", \"X\", \"Y\", \"Z\"]\n",
    "    return names[idx]\n",
    "\n",
    "pauli = [qeye(2), sigmax(), sigmay(), sigmaz()]\n",
    "terms = []\n",
    "\n",
    "for idx1, matrix1 in enumerate(pauli):\n",
    "    for idx2, matrix2 in enumerate(pauli):\n",
    "        value = 1/4 * np.trace(tensor(matrix1, matrix2).full()@h_red.full())\n",
    "        if np.abs(value) > 1e-10:\n",
    "            term = f\"{np.round(value,3)}\\\\mathbb{{{pauli_sym(idx1)}}}\\\\mathbb{{{pauli_sym(idx2)}}}\"\n",
    "            terms.append(term)\n",
    "\n",
    "expansion = \" + \".join(terms)\n",
    "display(Math(f'H_{{\\\\text{{eff}}}} = {expansion}'))\n",
    "\n",
    "value = 1/4 * np.trace(tensor(sigmaz(), sigmaz()).full()@h_red.full())\n",
    "display(Math(f'\\\\zeta = {value}'))"
   ]
  },
  {
   "cell_type": "code",
   "execution_count": null,
   "metadata": {},
   "outputs": [],
   "source": []
  }
 ],
 "metadata": {
  "kernelspec": {
   "display_name": ".venv",
   "language": "python",
   "name": "python3"
  },
  "language_info": {
   "codemirror_mode": {
    "name": "ipython",
    "version": 3
   },
   "file_extension": ".py",
   "mimetype": "text/x-python",
   "name": "python",
   "nbconvert_exporter": "python",
   "pygments_lexer": "ipython3",
   "version": "3.11.8"
  }
 },
 "nbformat": 4,
 "nbformat_minor": 2
}
